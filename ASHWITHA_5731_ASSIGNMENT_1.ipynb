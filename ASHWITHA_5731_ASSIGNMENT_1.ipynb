{
  "cells": [
    {
      "cell_type": "markdown",
      "metadata": {
        "id": "view-in-github"
      },
      "source": [
        "<a href=\"https://colab.research.google.com/github/unt-iialab/INFO5731_Spring2020/blob/master/Assignments/INFO5731_Assignment_One.ipynb\" target=\"_parent\"><img src=\"https://colab.research.google.com/assets/colab-badge.svg\" alt=\"Open In Colab\"/></a>"
      ]
    },
    {
      "cell_type": "code",
      "source": [],
      "metadata": {
        "id": "I8EID0sujRfU"
      },
      "execution_count": null,
      "outputs": []
    },
    {
      "cell_type": "markdown",
      "metadata": {
        "id": "Ryk8D1Q4Wsrp"
      },
      "source": [
        "# **INFO5731 Assignment One**"
      ]
    },
    {
      "cell_type": "markdown",
      "metadata": {
        "id": "90_NR8c5XGWc"
      },
      "source": [
        "# Question 1\n",
        "\n",
        "(20 points). Write a Python program to generate 12 random numbers between 1 and 100. Sort the list of numbers in ascending order and print it out. Sort the list of numbers in descending order and print it out. Calculate the average for the group and print it out."
      ]
    },
    {
      "cell_type": "code",
      "execution_count": null,
      "metadata": {
        "colab": {
          "base_uri": "https://localhost:8080/"
        },
        "id": "5QX6bJjGWXY9",
        "outputId": "2b38b787-76fa-484e-f554-a7cca9a15452"
      },
      "outputs": [
        {
          "output_type": "stream",
          "name": "stdout",
          "text": [
            "The original list is [78, 63, 98, 4, 86, 41, 97, 33, 52, 10, 13, 51]\n",
            "list in ascending order [4, 10, 13, 33, 41, 51, 52, 63, 78, 86, 97, 98]\n",
            "list in descending order [98, 97, 86, 78, 63, 52, 51, 41, 33, 13, 10, 4]\n",
            "Average of the list 52.166666666666664\n"
          ]
        }
      ],
      "source": [
        "import random\n",
        "from random import randint\n",
        "import math\n",
        "A=[]\n",
        "for x in range(12):\n",
        "   A.append(randint(1,100))\n",
        "print(\"The original list is\",A)\n",
        "A.sort()\n",
        "print(\"list in ascending order\",A)\n",
        "A.sort(reverse=True)\n",
        "print(\"list in descending order\",A)\n",
        "average=sum(A)/len(A)\n",
        "print(\"Average of the list\",average)"
      ]
    },
    {
      "cell_type": "markdown",
      "metadata": {
        "id": "1F_PZdH9Sh49"
      },
      "source": [
        "# Question 2\n",
        "(25 points). Write a program that will do the following string formatting tasks:\n",
        "\n",
        "(1) Ask the user to enter two sentences.\n",
        "\n",
        "(2) Make each sentence into a list. Each element in the list should correspond to a word in the sentence. For example, if the sentence is \"Alas! Am I alive? This is my first python program\", the program should print out ['Alas, '!', 'Am', 'I', 'alive, '?', 'This', 'is', 'my', 'first', 'python', 'program'].\n",
        "\n",
        "(3) Compare the two sentences. Print out a list of words that occur in both sentences.\n",
        "\n",
        "(4) Remove any punctuation from the sentence and print it back out. It should remove at least the following characters, but it can remove more: period(“.”), comma (“,”), semicolon (“;”), and colon (“:”)\n",
        "\n",
        "(5) Count the number of vowels in the sentences. Print out each vowel and the number of times it appears in the sentences, such as: a:2, e:1, i:0, etc"
      ]
    },
    {
      "cell_type": "code",
      "execution_count": null,
      "metadata": {
        "colab": {
          "base_uri": "https://localhost:8080/"
        },
        "id": "Y0oOSlsOS0cq",
        "outputId": "e73e8778-a074-4c39-e7e1-aa6c5b475326"
      },
      "outputs": [
        {
          "output_type": "stream",
          "name": "stdout",
          "text": [
            "Python is a very high-level programming language , yet it is effortless to learn .\n",
            "Python has an extensive standard library available for anyone to use .\n",
            "['Python', 'is', 'a', 'very', 'high-level', 'programming', 'language', ',', 'yet', 'it', 'is', 'effortless', 'to', 'learn', '.']\n",
            "['Python', 'has', 'an', 'extensive', 'standard', 'library', 'available', 'for', 'anyone', 'to', 'use', '.']\n",
            "{'.', 'Python', 'to'}\n",
            "Python is a very high-level programming language  yet it is effortless to learn \n",
            "{'o': 4, 'i': 5, 'a': 5, 'e': 8, 'u': 1}\n",
            "{'o': 11, 'a': 11, 'e': 11, 'i': 11, 'u': 11}\n"
          ]
        }
      ],
      "source": [
        "\n",
        "#entering 2 sentences\n",
        "S1=input()\n",
        "S2=input()\n",
        "#converting into to list\n",
        "list1=S1.split()\n",
        "list2=S2.split()\n",
        "print(list1)\n",
        "print(list2)\n",
        "#comparing and printing common words\n",
        "common_words = set(list1).intersection( set(list2) )\n",
        "print(common_words)\n",
        "#removing punctuation marks and printing back the sentence\n",
        "punctuation_marks=[\",\",\".\"]\n",
        "for x in S1:\n",
        "  if x in punctuation_marks:\n",
        "    S1=S1.replace(x,\"\")\n",
        "print(S1)\n",
        "#Counting the number of vowels in the sentences\n",
        "vowel_list1={}\n",
        "vowels=['a','e','i','o','u']\n",
        "for i in S1:\n",
        "  if i in vowels:\n",
        "    vowel_list1[i]=S1.count(i)\n",
        "print(vowel_list1)\n",
        "vowel_list2={}\n",
        "for j in S2:\n",
        "  if j in vowels:\n",
        "    vowel_list2[j]=S2.count(i)\n",
        "print(vowel_list2)\n",
        "\n",
        "\n",
        "\n",
        "\n"
      ]
    },
    {
      "cell_type": "markdown",
      "metadata": {
        "id": "CmFoI4jDS9nx"
      },
      "source": [
        "# Question 3 \n",
        "\n",
        "(15 points). The formula that describes the volume V of a sphere with radius r is the following:\n",
        "\n",
        "$ V=\\frac{4}{3}\\ast\\ \\pi\\ast\\ r^3 $\n",
        "\n",
        "Write a program to calculate the value of V when r is in the range of 1–10. Output the result in the following format:\n",
        "\n",
        "\tr\tV\n",
        "\t1\t…\n",
        "\t2\t…\n",
        "\t3\t…\n"
      ]
    },
    {
      "cell_type": "code",
      "execution_count": null,
      "metadata": {
        "id": "pEyqeioAT95b",
        "colab": {
          "base_uri": "https://localhost:8080/"
        },
        "outputId": "1154d8fd-1a63-48a8-8410-5769a94f1ffb"
      },
      "outputs": [
        {
          "output_type": "stream",
          "name": "stdout",
          "text": [
            "1 4.19047619047619\n",
            "2 33.52380952380952\n",
            "3 113.14285714285712\n",
            "4 268.19047619047615\n",
            "5 523.8095238095237\n",
            "6 905.142857142857\n",
            "7 1437.333333333333\n",
            "8 2145.523809523809\n",
            "9 3054.857142857142\n"
          ]
        }
      ],
      "source": [
        "pi=22/7\n",
        "for r in range(1,10):\n",
        "  Volume=4/3* pi*(r**3)\n",
        "  print(r,Volume)\n",
        "\n"
      ]
    },
    {
      "cell_type": "markdown",
      "metadata": {
        "id": "z3tBE7E-Xn5X"
      },
      "source": [
        "# Question 4\n",
        "\n",
        "(40 points). In the field of Data Science, data is often formatted as a comma-delimited (CSV) file, where each line in a file corresponds to a field's value. Refer to Chapter 9 (p. 106) for more information on comma-delimited files. To answer this question, you will need to download the file [Assignment1_denton_housing.csv](https://raw.githubusercontent.com/unt-iialab/info5731-spring2022/main/assignments/Assignment1_denton_housing.csv) included with this assignment. The file [Assignment1_denton_housing.csv](https://raw.githubusercontent.com/unt-iialab/info5731-spring2022/main/assignments/Assignment1_denton_housing.csv) contains statistics about housing in the city of Denton from 2008 to 2014. Write a program to implement the following questions.\n",
        "\n",
        "(1) (10 pts) Calculate the difference in the number of Occupied Housing Units from year to year and print it. The difference must be calculated for the consecutive years such as 2008-2009, 2009-2010 etc. Finally, print the values in the ascending order.\n",
        "\n",
        "(2) (10 pts) For all the years, calculate the percentage of housing units which are vacant an occupied. Print the results in the following format:\n",
        "\n",
        "Year Vacant Housing Units Occupied Housing Units\n",
        "\n",
        "    2008  30%   70%                          \n",
        "\t2009 ----- -----\n",
        "\t2010 ----- -----\n",
        "    2011 ----- -----\n",
        "\t2012 ----- -----\n",
        "    2013 ----- -----\n",
        "\t2014 ----- -----\n",
        "  \n",
        "  \n",
        "\n",
        "(3) (10 pts) Calculate and print the valued and years in which the highest number of housing units were vacant and occupied. Print the results in the following format:  \n",
        "\n",
        "                              Year\tValue\n",
        "\tVacant Housing Units\t  -----   -----\n",
        "\tOccupied Housing Units\t-----   -----\n",
        "\n",
        "(4) (10 pts) Calculate the harmonic mean of the total housing units and print it out. You can find the information about harmonic mean here: https://ncalculators.com/statistics/harmonic-mean-calculator.htm"
      ]
    },
    {
      "cell_type": "code",
      "execution_count": null,
      "metadata": {
        "id": "lqGYuHBhcsRH",
        "colab": {
          "base_uri": "https://localhost:8080/"
        },
        "outputId": "b0f9db84-3735-49be-efba-f473a0e2c3ed"
      },
      "outputs": [
        {
          "output_type": "stream",
          "name": "stdout",
          "text": [
            "Mounted at /content/drive\n"
          ]
        }
      ],
      "source": [
        "from google.colab import drive\n",
        "drive.mount('/content/drive')\n",
        "path='/content/drive/My Drive/Assignment1_denton_housing.csv'\n",
        "import pandas as pd\n",
        "df = pd.read_csv(path)\n"
      ]
    },
    {
      "cell_type": "code",
      "source": [
        "df.head()"
      ],
      "metadata": {
        "colab": {
          "base_uri": "https://localhost:8080/",
          "height": 206
        },
        "id": "TyF2ns-RsiME",
        "outputId": "336ef0f9-85c8-4300-854c-21b860e3b0a6"
      },
      "execution_count": null,
      "outputs": [
        {
          "output_type": "execute_result",
          "data": {
            "text/plain": [
              "   year             title_field  value\n",
              "0  2014     Total Housing Units  49109\n",
              "1  2014    Vacant Housing Units   2814\n",
              "2  2014  Occupied Housing Units  46295\n",
              "3  2013     Total Housing Units  47888\n",
              "4  2013    Vacant Housing Units   4215"
            ],
            "text/html": [
              "\n",
              "  <div id=\"df-98deeef6-0265-4763-b80e-3200af9186f5\">\n",
              "    <div class=\"colab-df-container\">\n",
              "      <div>\n",
              "<style scoped>\n",
              "    .dataframe tbody tr th:only-of-type {\n",
              "        vertical-align: middle;\n",
              "    }\n",
              "\n",
              "    .dataframe tbody tr th {\n",
              "        vertical-align: top;\n",
              "    }\n",
              "\n",
              "    .dataframe thead th {\n",
              "        text-align: right;\n",
              "    }\n",
              "</style>\n",
              "<table border=\"1\" class=\"dataframe\">\n",
              "  <thead>\n",
              "    <tr style=\"text-align: right;\">\n",
              "      <th></th>\n",
              "      <th>year</th>\n",
              "      <th>title_field</th>\n",
              "      <th>value</th>\n",
              "    </tr>\n",
              "  </thead>\n",
              "  <tbody>\n",
              "    <tr>\n",
              "      <th>0</th>\n",
              "      <td>2014</td>\n",
              "      <td>Total Housing Units</td>\n",
              "      <td>49109</td>\n",
              "    </tr>\n",
              "    <tr>\n",
              "      <th>1</th>\n",
              "      <td>2014</td>\n",
              "      <td>Vacant Housing Units</td>\n",
              "      <td>2814</td>\n",
              "    </tr>\n",
              "    <tr>\n",
              "      <th>2</th>\n",
              "      <td>2014</td>\n",
              "      <td>Occupied Housing Units</td>\n",
              "      <td>46295</td>\n",
              "    </tr>\n",
              "    <tr>\n",
              "      <th>3</th>\n",
              "      <td>2013</td>\n",
              "      <td>Total Housing Units</td>\n",
              "      <td>47888</td>\n",
              "    </tr>\n",
              "    <tr>\n",
              "      <th>4</th>\n",
              "      <td>2013</td>\n",
              "      <td>Vacant Housing Units</td>\n",
              "      <td>4215</td>\n",
              "    </tr>\n",
              "  </tbody>\n",
              "</table>\n",
              "</div>\n",
              "      <button class=\"colab-df-convert\" onclick=\"convertToInteractive('df-98deeef6-0265-4763-b80e-3200af9186f5')\"\n",
              "              title=\"Convert this dataframe to an interactive table.\"\n",
              "              style=\"display:none;\">\n",
              "        \n",
              "  <svg xmlns=\"http://www.w3.org/2000/svg\" height=\"24px\"viewBox=\"0 0 24 24\"\n",
              "       width=\"24px\">\n",
              "    <path d=\"M0 0h24v24H0V0z\" fill=\"none\"/>\n",
              "    <path d=\"M18.56 5.44l.94 2.06.94-2.06 2.06-.94-2.06-.94-.94-2.06-.94 2.06-2.06.94zm-11 1L8.5 8.5l.94-2.06 2.06-.94-2.06-.94L8.5 2.5l-.94 2.06-2.06.94zm10 10l.94 2.06.94-2.06 2.06-.94-2.06-.94-.94-2.06-.94 2.06-2.06.94z\"/><path d=\"M17.41 7.96l-1.37-1.37c-.4-.4-.92-.59-1.43-.59-.52 0-1.04.2-1.43.59L10.3 9.45l-7.72 7.72c-.78.78-.78 2.05 0 2.83L4 21.41c.39.39.9.59 1.41.59.51 0 1.02-.2 1.41-.59l7.78-7.78 2.81-2.81c.8-.78.8-2.07 0-2.86zM5.41 20L4 18.59l7.72-7.72 1.47 1.35L5.41 20z\"/>\n",
              "  </svg>\n",
              "      </button>\n",
              "      \n",
              "  <style>\n",
              "    .colab-df-container {\n",
              "      display:flex;\n",
              "      flex-wrap:wrap;\n",
              "      gap: 12px;\n",
              "    }\n",
              "\n",
              "    .colab-df-convert {\n",
              "      background-color: #E8F0FE;\n",
              "      border: none;\n",
              "      border-radius: 50%;\n",
              "      cursor: pointer;\n",
              "      display: none;\n",
              "      fill: #1967D2;\n",
              "      height: 32px;\n",
              "      padding: 0 0 0 0;\n",
              "      width: 32px;\n",
              "    }\n",
              "\n",
              "    .colab-df-convert:hover {\n",
              "      background-color: #E2EBFA;\n",
              "      box-shadow: 0px 1px 2px rgba(60, 64, 67, 0.3), 0px 1px 3px 1px rgba(60, 64, 67, 0.15);\n",
              "      fill: #174EA6;\n",
              "    }\n",
              "\n",
              "    [theme=dark] .colab-df-convert {\n",
              "      background-color: #3B4455;\n",
              "      fill: #D2E3FC;\n",
              "    }\n",
              "\n",
              "    [theme=dark] .colab-df-convert:hover {\n",
              "      background-color: #434B5C;\n",
              "      box-shadow: 0px 1px 3px 1px rgba(0, 0, 0, 0.15);\n",
              "      filter: drop-shadow(0px 1px 2px rgba(0, 0, 0, 0.3));\n",
              "      fill: #FFFFFF;\n",
              "    }\n",
              "  </style>\n",
              "\n",
              "      <script>\n",
              "        const buttonEl =\n",
              "          document.querySelector('#df-98deeef6-0265-4763-b80e-3200af9186f5 button.colab-df-convert');\n",
              "        buttonEl.style.display =\n",
              "          google.colab.kernel.accessAllowed ? 'block' : 'none';\n",
              "\n",
              "        async function convertToInteractive(key) {\n",
              "          const element = document.querySelector('#df-98deeef6-0265-4763-b80e-3200af9186f5');\n",
              "          const dataTable =\n",
              "            await google.colab.kernel.invokeFunction('convertToInteractive',\n",
              "                                                     [key], {});\n",
              "          if (!dataTable) return;\n",
              "\n",
              "          const docLinkHtml = 'Like what you see? Visit the ' +\n",
              "            '<a target=\"_blank\" href=https://colab.research.google.com/notebooks/data_table.ipynb>data table notebook</a>'\n",
              "            + ' to learn more about interactive tables.';\n",
              "          element.innerHTML = '';\n",
              "          dataTable['output_type'] = 'display_data';\n",
              "          await google.colab.output.renderOutput(dataTable, element);\n",
              "          const docLink = document.createElement('div');\n",
              "          docLink.innerHTML = docLinkHtml;\n",
              "          element.appendChild(docLink);\n",
              "        }\n",
              "      </script>\n",
              "    </div>\n",
              "  </div>\n",
              "  "
            ]
          },
          "metadata": {},
          "execution_count": 6
        }
      ]
    },
    {
      "cell_type": "markdown",
      "source": [
        "1)Calculate the difference in the number of Occupied Housing Units from year to year and print it. The difference must be calculated for the consecutive years such as 2008-2009, 2009-2010 etc. Finally, print the values in the ascending order."
      ],
      "metadata": {
        "id": "yes85wf0ser3"
      }
    },
    {
      "cell_type": "code",
      "source": [
        "dict1={}\n",
        "A=set(df['year'])\n",
        "for j in sorted(list(A))[:-1]:\n",
        "  previous_year = 0\n",
        "  new_year = 0\n",
        "  for col, row in df.iterrows():\n",
        "    if row['year'] == j and row['title_field'] == 'Occupied Housing Units':\n",
        "      previous_year += row['value']\n",
        "    if row['year'] == j+1 and row['title_field'] == 'Occupied Housing Units':\n",
        "      new_year += row['value']\n",
        "  dict1[str(j)+'-'+str(j+1)] = abs(previous_year - new_year)"
      ],
      "metadata": {
        "id": "SwmAqhqQjUAv"
      },
      "execution_count": null,
      "outputs": []
    },
    {
      "cell_type": "code",
      "source": [
        "ascending_order=sorted(dict1.values())\n",
        "ascending_dict={}\n",
        "for i in ascending_order:\n",
        "  for k in dict1.keys():\n",
        "    if(dict1[k]==i):\n",
        "      ascending_dict[k]=dict1[k]\n",
        "for key,value in ascending_dict.items():\n",
        "  print(key,\":\",value)"
      ],
      "metadata": {
        "colab": {
          "base_uri": "https://localhost:8080/"
        },
        "id": "ZHyUTY1zktu7",
        "outputId": "90edc83b-fa0d-4382-d8d6-a540e961719d"
      },
      "execution_count": null,
      "outputs": [
        {
          "output_type": "stream",
          "name": "stdout",
          "text": [
            "2010-2011 : 303\n",
            "2008-2009 : 795\n",
            "2011-2012 : 1404\n",
            "2012-2013 : 1565\n",
            "2013-2014 : 2622\n",
            "2009-2010 : 5091\n"
          ]
        }
      ]
    },
    {
      "cell_type": "markdown",
      "source": [
        "2)For all the years, calculate the percentage of housing units which are vacant an occupied."
      ],
      "metadata": {
        "id": "3DYr13Vhs2Ps"
      }
    },
    {
      "cell_type": "code",
      "source": [
        "A=set(df['year'])\n",
        "list1=list(A)\n",
        "for j in sorted(list1):\n",
        "  housing_total = 0\n",
        "  occupied_housing = 0\n",
        "  vacant_housing = 0\n",
        "  year = 0\n",
        "  for col, row in df.iterrows():\n",
        "    if row['year'] == j and row['title_field'] == 'Total Housing Units' :\n",
        "      year = row['year']\n",
        "      housing_total = row['value']\n",
        "    if row['year'] == j and  row['title_field'] == 'Occupied Housing Units' :\n",
        "      occupied_housing = row['value']\n",
        "    if row['year'] == j and  row['title_field'] == 'Vacant Housing Units' :\n",
        "      vacant_housing = row['value']\n",
        "  percentage_occupied_housing = int((occupied_housing / housing_total) * 100)\n",
        "  percentage_vacant_housing = int((vacant_housing / housing_total) * 100)\n",
        "  print(year,\" \",str(percentage_vacant_housing)+'%',\" \",str(percentage_occupied_housing)+'%')"
      ],
      "metadata": {
        "colab": {
          "base_uri": "https://localhost:8080/"
        },
        "id": "y4YcL42GmHS_",
        "outputId": "d989da32-cac1-449c-a037-a20fe718d310"
      },
      "execution_count": null,
      "outputs": [
        {
          "output_type": "stream",
          "name": "stdout",
          "text": [
            "2008   10%   89%\n",
            "2009   9%   90%\n",
            "2010   8%   91%\n",
            "2011   9%   90%\n",
            "2012   6%   93%\n",
            "2013   8%   91%\n",
            "2014   5%   94%\n"
          ]
        }
      ]
    },
    {
      "cell_type": "markdown",
      "source": [
        "3)Calculate and print the valued and years in which the highest number of housing units were vacant and occupied. "
      ],
      "metadata": {
        "id": "r_xgE2o6s_vf"
      }
    },
    {
      "cell_type": "code",
      "source": [
        "maximum_occupied=0\n",
        "maximum_vacant=0\n",
        "year1=0\n",
        "year2=0\n",
        "for j in sorted(list(set(df['year']))):\n",
        " for col,row in df.iterrows():\n",
        "    if row['year'] == j and  row['title_field'] == 'Occupied Housing Units' :\n",
        "      if row['value']>maximum_occupied:\n",
        "        maximum_occupied=row['value']\n",
        "        year1=row['year']\n",
        "    if row['year'] == j and  row['title_field'] == 'Vacant Housing Units' :\n",
        "      if row['value']>maximum_vacant:\n",
        "        maximum_vacant=row['value']\n",
        "        year2=row['year']"
      ],
      "metadata": {
        "id": "8tr03f3GnD-J"
      },
      "execution_count": null,
      "outputs": []
    },
    {
      "cell_type": "code",
      "source": [
        "print('                       ', 'year',   'value')\n",
        "print('Vacant Housing Units   ' , year2 , maximum_vacant)\n",
        "print('Occupied Housing Units ' , year1,  maximum_occupied)\n"
      ],
      "metadata": {
        "colab": {
          "base_uri": "https://localhost:8080/"
        },
        "id": "Nj_iQjnlrow3",
        "outputId": "b5b18fe6-add6-4075-e233-bc9cffe640d4"
      },
      "execution_count": null,
      "outputs": [
        {
          "output_type": "stream",
          "name": "stdout",
          "text": [
            "                        year value\n",
            "Vacant Housing Units    2008 4483\n",
            "Occupied Housing Units  2014 46295\n"
          ]
        }
      ]
    },
    {
      "cell_type": "markdown",
      "source": [
        "4)Calculate the harmonic mean of the total housing units and print it out."
      ],
      "metadata": {
        "id": "FVQmqcf7tKo3"
      }
    },
    {
      "cell_type": "code",
      "source": [
        "total_housing = list()\n",
        "for col, row in df.iterrows():\n",
        "  if row['title_field'] == 'Total Housing Units':\n",
        "    total_housing.append(row['value'])"
      ],
      "metadata": {
        "id": "-8bxnbqvrXss"
      },
      "execution_count": null,
      "outputs": []
    },
    {
      "cell_type": "code",
      "source": [
        "total = len(total_housing)\n",
        "p = 0\n",
        "for i in total_housing:\n",
        "  p += (1/i)\n",
        "print(total/p)"
      ],
      "metadata": {
        "colab": {
          "base_uri": "https://localhost:8080/"
        },
        "id": "T2D_LF2vrgio",
        "outputId": "0ee83d20-71b4-457b-99d1-345fc4eb2f47"
      },
      "execution_count": null,
      "outputs": [
        {
          "output_type": "stream",
          "name": "stdout",
          "text": [
            "44398.28543969185\n"
          ]
        }
      ]
    },
    {
      "cell_type": "code",
      "source": [],
      "metadata": {
        "id": "rI3tAWMxZyQz"
      },
      "execution_count": null,
      "outputs": []
    }
  ],
  "metadata": {
    "colab": {
      "provenance": []
    },
    "kernelspec": {
      "display_name": "Python 3 (ipykernel)",
      "language": "python",
      "name": "python3"
    },
    "language_info": {
      "codemirror_mode": {
        "name": "ipython",
        "version": 3
      },
      "file_extension": ".py",
      "mimetype": "text/x-python",
      "name": "python",
      "nbconvert_exporter": "python",
      "pygments_lexer": "ipython3",
      "version": "3.9.12"
    }
  },
  "nbformat": 4,
  "nbformat_minor": 0
}