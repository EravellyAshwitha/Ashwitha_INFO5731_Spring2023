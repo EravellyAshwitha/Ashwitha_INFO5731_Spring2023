{
  "cells": [
    {
      "cell_type": "markdown",
      "metadata": {
        "id": "view-in-github"
      },
      "source": [
        "<a href=\"https://colab.research.google.com/github/unt-iialab/INFO5731_Spring2020/blob/master/In_class_exercise/In_class_exercise_01.ipynb\" target=\"_parent\"><img src=\"https://colab.research.google.com/assets/colab-badge.svg\" alt=\"Open In Colab\"/></a>"
      ]
    },
    {
      "cell_type": "markdown",
      "metadata": {
        "id": "DymRJbxDBCnf"
      },
      "source": [
        "# **The first In-class-exercise (01/24/2023, 40 points in total)**"
      ]
    },
    {
      "cell_type": "markdown",
      "metadata": {
        "id": "03jb4GZsBkBS"
      },
      "source": [
        "(1) Write a Python program to calculate the length of a string. (4 points)"
      ]
    },
    {
      "cell_type": "code",
      "execution_count": null,
      "metadata": {
        "colab": {
          "base_uri": "https://localhost:8080/"
        },
        "id": "YaGLbSHHB8Ej",
        "outputId": "52f4f99a-4b0f-4f19-f77f-5b2d18347437"
      },
      "outputs": [
        {
          "output_type": "stream",
          "name": "stdout",
          "text": [
            "8\n"
          ]
        }
      ],
      "source": [
        "X=\"Ashwitha\"\n",
        "L=list(X)\n",
        "p=0\n",
        "for a in L:\n",
        "  p=p+1\n",
        "print(p)\n"
      ]
    },
    {
      "cell_type": "markdown",
      "metadata": {
        "id": "jJDe71iLB616"
      },
      "source": [
        "(2) Write a Python program to count the number of characters in a string. (4 points)\n",
        "\n",
        "Sample String : 'google.com‘, \n",
        "\n",
        "Expected Result : {'o': 3, 'g': 2, '.': 1, 'e': 1, 'l': 1, 'm': 1, 'c': 1}"
      ]
    },
    {
      "cell_type": "code",
      "execution_count": null,
      "metadata": {
        "colab": {
          "base_uri": "https://localhost:8080/"
        },
        "id": "MtKskTzbCLaU",
        "outputId": "97cb3e69-3a97-4db4-a4b6-a8ea578a3032"
      },
      "outputs": [
        {
          "output_type": "stream",
          "name": "stdout",
          "text": [
            "{'a': 2, 's': 1, 'h': 2, 'w': 1, 'i': 1, 't': 1}\n"
          ]
        }
      ],
      "source": [
        "A={}\n",
        "B=\"ashwitha\"\n",
        "for i in B:\n",
        "  if i in A:\n",
        "     A[i]+=1\n",
        "  else:\n",
        "     A[i]=1\n",
        "print(A)\n",
        "\n"
      ]
    },
    {
      "cell_type": "markdown",
      "metadata": {
        "id": "55W9AMdXCSpV"
      },
      "source": [
        "(3) Write a Python program to sum all the items in a list. (4 points)"
      ]
    },
    {
      "cell_type": "code",
      "execution_count": null,
      "metadata": {
        "colab": {
          "base_uri": "https://localhost:8080/"
        },
        "id": "I57NXsauCec2",
        "outputId": "a1eb9752-00ce-41e9-f6be-74253b41b138"
      },
      "outputs": [
        {
          "output_type": "stream",
          "name": "stdout",
          "text": [
            "21\n"
          ]
        }
      ],
      "source": [
        "C=[1,2,3,4,5,6]\n",
        "Q=0\n",
        "for i in C:\n",
        "   Q=Q+i\n",
        "print(Q)\n",
        "\n"
      ]
    },
    {
      "cell_type": "markdown",
      "metadata": {
        "id": "4ulBZ6yhCi9F"
      },
      "source": [
        "(4) Write a Python program to get a string from a given string where all occurrences of its first char have been changed to '\\$', except the first char itself. (4 points)\n",
        "\n",
        "Sample String : 'restart‘, \n",
        "\n",
        "Expected Result : 'resta\\$t'"
      ]
    },
    {
      "cell_type": "code",
      "execution_count": null,
      "metadata": {
        "colab": {
          "base_uri": "https://localhost:8080/"
        },
        "id": "Fj0XhwbBCw2o",
        "outputId": "a52022da-f9ac-4b0d-dda4-b0c3697b322e"
      },
      "outputs": [
        {
          "output_type": "stream",
          "name": "stdout",
          "text": [
            "ashwith$\n"
          ]
        }
      ],
      "source": [
        "D=\"ashwitha\"\n",
        "S=D[0]\n",
        "S+=D[1:].replace(D[0],\"$\")\n",
        "print(S)\n"
      ]
    },
    {
      "cell_type": "markdown",
      "metadata": {
        "id": "_bIP7s1MCzue"
      },
      "source": [
        "(5) Write a program with python which could accept two parameter a and b to calculate and output the result of S, where \n",
        "\n",
        "$\\ S=3.14*(1+a/b)^3$ (4 points)\n",
        "\n"
      ]
    },
    {
      "cell_type": "code",
      "execution_count": null,
      "metadata": {
        "colab": {
          "base_uri": "https://localhost:8080/"
        },
        "id": "w79QilHXD3Mg",
        "outputId": "d214ddab-6910-4ee4-fe2f-56114d973880"
      },
      "outputs": [
        {
          "output_type": "stream",
          "name": "stdout",
          "text": [
            "10.5975\n"
          ]
        }
      ],
      "source": [
        "a=1\n",
        "b=2\n",
        "S=3.14*((1+(a/b))**3)\n",
        "print(S)\n",
        "\n"
      ]
    },
    {
      "cell_type": "markdown",
      "metadata": {
        "id": "xCa2bK9aD4Q3"
      },
      "source": [
        "(6) Write a Python program to concatenate following dictionaries to create a new one. (4 points)\n",
        "\n",
        "Sample Dictionary : dic1={1:10, 2:20}, dic2={3:30, 4:40}, dic3={5:50,6:60}, \n",
        "\n",
        "Expected Result : {1: 10, 2: 20, 3: 30, 4: 40, 5: 50, 6: 60}\n"
      ]
    },
    {
      "cell_type": "code",
      "execution_count": null,
      "metadata": {
        "colab": {
          "base_uri": "https://localhost:8080/"
        },
        "id": "_z4aLqAbEET1",
        "outputId": "16d33ff7-1bc1-4be3-8eb7-0d0a55c53a52"
      },
      "outputs": [
        {
          "output_type": "stream",
          "name": "stdout",
          "text": [
            "{1: 10, 2: 20, 3: 30, 4: 40, 5: 50, 6: 60}\n"
          ]
        }
      ],
      "source": [
        "dict1={1:10,2:20}\n",
        "dict2={3:30,4:40}\n",
        "dict3={5:50,6:60}\n",
        "\n",
        "final_dict= {**dict1, **dict2, **dict3} \n",
        "print(final_dict)\n"
      ]
    },
    {
      "cell_type": "markdown",
      "metadata": {
        "id": "0v48Vqa7FrQh"
      },
      "source": [
        "(7) Write a Python program to check whether an element exists within a tuple. (4 points)"
      ]
    },
    {
      "cell_type": "code",
      "execution_count": null,
      "metadata": {
        "colab": {
          "base_uri": "https://localhost:8080/"
        },
        "id": "7WEmgq-DF2P1",
        "outputId": "42e1f838-0384-4b79-dbd1-058a08ff75f1"
      },
      "outputs": [
        {
          "output_type": "stream",
          "name": "stdout",
          "text": [
            "True\n",
            "False\n"
          ]
        }
      ],
      "source": [
        "P=(\"A\",\"C\",1,9,5,\"B\",\"D\")\n",
        "print(\"D\" in P)\n",
        "print(7 in P)\n",
        "\n"
      ]
    },
    {
      "cell_type": "markdown",
      "metadata": {
        "id": "vD5PYLMuGga_"
      },
      "source": [
        "(8) Write a Python program to find maximum and the minimum value in a set. (4 points)"
      ]
    },
    {
      "cell_type": "code",
      "execution_count": null,
      "metadata": {
        "colab": {
          "base_uri": "https://localhost:8080/"
        },
        "id": "t0D5kdJUGjjw",
        "outputId": "d414ddfd-44d5-4e3f-bbf1-0cf2343c6534"
      },
      "outputs": [
        {
          "output_type": "stream",
          "name": "stdout",
          "text": [
            "maximum in set1 is 23\n",
            "minimum in set1 is 1\n"
          ]
        }
      ],
      "source": [
        "set1={1,5,7,4,9,23,10}\n",
        "E=max(set1)\n",
        "F=min(set1)\n",
        "print(\"maximum in set1 is\",E)\n",
        "print(\"minimum in set1 is\",F)"
      ]
    },
    {
      "cell_type": "markdown",
      "metadata": {
        "id": "uHkd-y5VhVWC"
      },
      "source": [
        "(9) Write a Python program to randomly divide the students in this class into six groups for term projects, each group should have at least 4 students but no more than 6 students (including 6). Here is the students list: (4 points)\n",
        "\n",
        "studnet_list = ['ja0964','sa1198','sb1357','vb0218','sc1229','kg0569','kg0470','sg1297','bg0320','fh0141','jl1252','sk1386',\n",
        "           'ak0956','sk1390','sk1458','sk1313','ak0934','vm0377','nm0618','sm1640','sm1907','gn0108','pr0353','dr0609','ms1500','aos0040','ds0814', 'av0659','nv0234','hy0232']"
      ]
    },
    {
      "cell_type": "code",
      "execution_count": null,
      "metadata": {
        "colab": {
          "base_uri": "https://localhost:8080/"
        },
        "id": "3iGbmcOBhTwy",
        "outputId": "e58f85de-dbcc-4337-c523-8c5ffba34e38"
      },
      "outputs": [
        {
          "output_type": "stream",
          "name": "stdout",
          "text": [
            "[['ja0964', 'sa1198', 'sb1357', 'vb0218', 'sc1229'], ['kg0569', 'kg0470', 'sg1297', 'bg0320', 'fh0141'], ['jl1252', 'sk1386', 'ak0956', 'sk1390', 'sk1458'], ['sk1313', 'ak0934', 'vm0377', 'nm0618', 'sm1640'], ['sm1907', 'gn0108', 'pr0353', 'dr0609', 'ms1500'], ['aos0040', 'ds0814', 'av0659', 'nv0234', 'hy0232']]\n"
          ]
        }
      ],
      "source": [
        "student_list = ['ja0964','sa1198','sb1357','vb0218','sc1229','kg0569','kg0470','sg1297','bg0320','fh0141','jl1252','sk1386', 'ak0956','sk1390','sk1458','sk1313','ak0934','vm0377','nm0618','sm1640','sm1907','gn0108','pr0353','dr0609','ms1500','aos0040','ds0814', 'av0659','nv0234','hy0232']\n",
        "new_list=[]\n",
        "size=5\n",
        "for j in range(0,len(student_list),size):\n",
        "  new_list.append(student_list[j:j+size])\n",
        "print(new_list)"
      ]
    },
    {
      "cell_type": "markdown",
      "metadata": {
        "id": "eDytTIU191As"
      },
      "source": [
        "(10) Write a Python program to find the duplicate elements in a given array of integers. Return -1 If there are no such elements. (4 points)"
      ]
    },
    {
      "cell_type": "code",
      "execution_count": null,
      "metadata": {
        "colab": {
          "base_uri": "https://localhost:8080/"
        },
        "id": "RfDvSftd91At",
        "outputId": "e5ef84b1-328d-4b15-a8de-0f16616885d2"
      },
      "outputs": [
        {
          "output_type": "stream",
          "name": "stdout",
          "text": [
            "10\n"
          ]
        }
      ],
      "source": [
        "array1=[10,13,16,18,10,9,8,7]\n",
        "if len(set(array1)) == len(array1):\n",
        "  print(-1)\n",
        "else:\n",
        "  for k in set(array1):\n",
        "    if array1.count(k) > 1:\n",
        "      print(k)\n",
        "    \n"
      ]
    },
    {
      "cell_type": "markdown",
      "metadata": {
        "id": "hm20xAOu91Au"
      },
      "source": [
        "(11) Write a Python program to select all the Sundays of a specified year. (4 extra points)"
      ]
    },
    {
      "cell_type": "code",
      "execution_count": null,
      "metadata": {
        "colab": {
          "base_uri": "https://localhost:8080/"
        },
        "id": "ut3HV5HI91Av",
        "outputId": "a08aade5-8377-4b49-9557-5203f967f64e"
      },
      "outputs": [
        {
          "output_type": "stream",
          "name": "stdout",
          "text": [
            "2020-01-05\n",
            "2020-01-12\n",
            "2020-01-19\n",
            "2020-01-26\n",
            "2020-02-02\n",
            "2020-02-09\n",
            "2020-02-16\n",
            "2020-02-23\n",
            "2020-03-01\n",
            "2020-03-08\n",
            "2020-03-15\n",
            "2020-03-22\n",
            "2020-03-29\n",
            "2020-04-05\n",
            "2020-04-12\n",
            "2020-04-19\n",
            "2020-04-26\n",
            "2020-05-03\n",
            "2020-05-10\n",
            "2020-05-17\n",
            "2020-05-24\n",
            "2020-05-31\n",
            "2020-06-07\n",
            "2020-06-14\n",
            "2020-06-21\n",
            "2020-06-28\n",
            "2020-07-05\n",
            "2020-07-12\n",
            "2020-07-19\n",
            "2020-07-26\n",
            "2020-08-02\n",
            "2020-08-09\n",
            "2020-08-16\n",
            "2020-08-23\n",
            "2020-08-30\n",
            "2020-09-06\n",
            "2020-09-13\n",
            "2020-09-20\n",
            "2020-09-27\n",
            "2020-10-04\n",
            "2020-10-11\n",
            "2020-10-18\n",
            "2020-10-25\n",
            "2020-11-01\n",
            "2020-11-08\n",
            "2020-11-15\n",
            "2020-11-22\n",
            "2020-11-29\n",
            "2020-12-06\n",
            "2020-12-13\n",
            "2020-12-20\n",
            "2020-12-27\n"
          ]
        }
      ],
      "source": [
        "from datetime import date, timedelta\n",
        "\n",
        "def sundays(year):\n",
        "       dt1 = date(year, 1, 1)    \n",
        "       dt1 += timedelta(days = 6 - dt1.weekday())  \n",
        "       while dt1.year == year:\n",
        "          yield dt1\n",
        "          dt1 += timedelta(days = 7)\n",
        "          \n",
        "for s in sundays(2020):\n",
        "   print(s)"
      ]
    },
    {
      "cell_type": "code",
      "source": [
        "import numpy as np\n",
        "year = input()\n",
        "s_count = np.busday_count(year, str(int(year)+1),weekmask='Sun')\n",
        "print('number of sundays in the year {0} are {1}'.format(year,s_count))"
      ],
      "metadata": {
        "colab": {
          "base_uri": "https://localhost:8080/"
        },
        "id": "3suKFo1iOdVB",
        "outputId": "60002428-932f-4d72-db95-0a62a6fa7ca2"
      },
      "execution_count": null,
      "outputs": [
        {
          "output_type": "stream",
          "name": "stdout",
          "text": [
            "2020\n",
            "number of sundays in the year 2020 are 52\n"
          ]
        }
      ]
    },
    {
      "cell_type": "code",
      "source": [],
      "metadata": {
        "id": "4HbWNMubOjtZ"
      },
      "execution_count": null,
      "outputs": []
    }
  ],
  "metadata": {
    "colab": {
      "provenance": []
    },
    "kernelspec": {
      "display_name": "Python 3 (ipykernel)",
      "language": "python",
      "name": "python3"
    },
    "language_info": {
      "codemirror_mode": {
        "name": "ipython",
        "version": 3
      },
      "file_extension": ".py",
      "mimetype": "text/x-python",
      "name": "python",
      "nbconvert_exporter": "python",
      "pygments_lexer": "ipython3",
      "version": "3.9.12"
    }
  },
  "nbformat": 4,
  "nbformat_minor": 0
}